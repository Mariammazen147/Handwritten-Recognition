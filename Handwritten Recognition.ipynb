{
 "cells": [
  {
   "cell_type": "markdown",
   "id": "baaf42b5",
   "metadata": {},
   "source": [
    "# Project 1"
   ]
  },
  {
   "cell_type": "code",
   "execution_count": 1,
   "id": "68503e29",
   "metadata": {
    "scrolled": true
   },
   "outputs": [
    {
     "name": "stdout",
     "output_type": "stream",
     "text": [
      "Downloading data from https://storage.googleapis.com/tensorflow/tf-keras-datasets/mnist.npz\n",
      "11493376/11490434 [==============================] - 10s 1us/step\n",
      "Train on 60000 samples\n",
      "Epoch 1/3\n",
      "60000/60000 [==============================] - 17s 277us/sample - loss: 0.2596 - accuracy: 0.9233\n",
      "Epoch 2/3\n",
      "60000/60000 [==============================] - 7s 113us/sample - loss: 0.1049 - accuracy: 0.9670\n",
      "Epoch 3/3\n",
      "60000/60000 [==============================] - 7s 112us/sample - loss: 0.0721 - accuracy: 0.9765\n"
     ]
    },
    {
     "data": {
      "text/plain": [
       "<tensorflow.python.keras.callbacks.History at 0x1890179a198>"
      ]
     },
     "execution_count": 1,
     "metadata": {},
     "output_type": "execute_result"
    }
   ],
   "source": [
    "import tensorflow as tf #to import tensorflow in my enviroment\n",
    "mnist = tf.keras.datasets.mnist # 28*28 images + 70,000 samples from mnist\n",
    "\n",
    "\n",
    "(x_train, y_train), (x_test, y_test) = mnist.load_data() #to load the data from mnist\n",
    "\n",
    "\n",
    "x_train = tf.keras.utils.normalize(x_train, axis = 1) # to normalize x_train\n",
    "x_test = tf.keras.utils.normalize(x_test, axis = 1) #to normalize x_test\n",
    "\n",
    "model = tf.keras.models.Sequential() # to build up your neural networks\n",
    "model.add(tf.keras.layers.Flatten()) # to convert 3d dimensions to vector n*1\n",
    "model.add(tf.keras.layers.Dense(128,activation=tf.nn.relu)) # for the first hidden layer\n",
    "model.add(tf.keras.layers.Dense(128,activation=tf.nn.relu)) # for the second hidden layer\n",
    "model.add(tf.keras.layers.Dense(10,activation=tf.nn.softmax)) #to create the output layer with ten neurons\n",
    "model.compile(optimizer='adam' , loss ='sparse_categorical_crossentropy', metrics = ['accuracy'])\n",
    "model.fit(x_train, y_train, epochs=3) #to start the training\n"
   ]
  },
  {
   "cell_type": "code",
   "execution_count": 2,
   "id": "5d3faca7",
   "metadata": {
    "scrolled": true
   },
   "outputs": [
    {
     "name": "stdout",
     "output_type": "stream",
     "text": [
      "10000/10000 [==============================] - 1s 75us/sample - loss: 0.0958 - accuracy: 0.9706\n",
      "0.0957693434463814 0.9706\n"
     ]
    }
   ],
   "source": [
    "val_loss, val_acc = model.evaluate(x_test,y_test) #to pass x_test and y_test as a validation \n",
    "print(val_loss,val_acc) #to print losses and accuracy of validation"
   ]
  },
  {
   "cell_type": "code",
   "execution_count": 3,
   "id": "33673e71",
   "metadata": {},
   "outputs": [
    {
     "data": {
      "text/plain": [
       "<function matplotlib.pyplot.show(close=None, block=None)>"
      ]
     },
     "execution_count": 3,
     "metadata": {},
     "output_type": "execute_result"
    },
    {
     "data": {
      "image/png": "[encoded data removed]",
      "text/plain": [
       "<Figure size 432x288 with 1 Axes>"
      ]
     },
     "metadata": {
      "needs_background": "light"
     },
     "output_type": "display_data"
    }
   ],
   "source": [
    "import matplotlib.pyplot as plt\n",
    "plt.imshow(x_train[0],cmap = plt.cm.binary) #to convert the image to binary\n",
    "plt.show\n",
    "\n",
    "#print(x_train[0]) "
   ]
  },
  {
   "cell_type": "code",
   "execution_count": 4,
   "id": "c3e52333",
   "metadata": {},
   "outputs": [
    {
     "name": "stdout",
     "output_type": "stream",
     "text": [
      "WARNING:tensorflow:From C:\\Users\\mario\\anaconda3\\envs\\We\\lib\\site-packages\\tensorflow_core\\python\\ops\\resource_variable_ops.py:1786: calling BaseResourceVariable.__init__ (from tensorflow.python.ops.resource_variable_ops) with constraint is deprecated and will be removed in a future version.\n",
      "Instructions for updating:\n",
      "If using Keras pass *_constraint arguments to layers.\n",
      "INFO:tensorflow:Assets written to: epic_num_reader.model\\assets\n"
     ]
    }
   ],
   "source": [
    "model.save('epic_num_reader.model') #to save your parameters"
   ]
  },
  {
   "cell_type": "code",
   "execution_count": 5,
   "id": "12e9ad68",
   "metadata": {},
   "outputs": [],
   "source": [
    "new_model = tf.keras.models.load_model('epic_num_reader.model') #to load the parameters"
   ]
  },
  {
   "cell_type": "code",
   "execution_count": 13,
   "id": "429df958",
   "metadata": {},
   "outputs": [
    {
     "name": "stdout",
     "output_type": "stream",
     "text": [
      "[[4.4016950e-09 2.3635563e-07 5.9365170e-06 ... 9.9996150e-01\n",
      "  5.1788107e-10 1.7510169e-09]\n",
      " [7.8140765e-09 3.8128725e-04 9.9961698e-01 ... 7.6685387e-09\n",
      "  1.7916143e-07 4.6517337e-10]\n",
      " [3.1041477e-08 9.9986017e-01 3.7461064e-06 ... 5.8330887e-05\n",
      "  8.1925391e-06 5.1877845e-07]\n",
      " ...\n",
      " [6.4156758e-08 3.8333542e-06 1.4483333e-08 ... 1.2581720e-04\n",
      "  5.2964247e-06 4.4237229e-05]\n",
      " [8.4243904e-05 7.9238489e-06 4.0539607e-07 ... 1.6476981e-05\n",
      "  5.0661882e-04 1.3235337e-08]\n",
      " [3.6922083e-06 4.4150177e-08 1.6765561e-06 ... 3.1835972e-09\n",
      "  2.0951516e-06 1.5804636e-07]]\n"
     ]
    }
   ],
   "source": [
    "predictions = new_model.predict(x_test)\n",
    "print(predictions)"
   ]
  },
  {
   "cell_type": "code",
   "execution_count": 14,
   "id": "9c4c06c4",
   "metadata": {},
   "outputs": [
    {
     "name": "stdout",
     "output_type": "stream",
     "text": [
      "1\n"
     ]
    }
   ],
   "source": [
    "import numpy as np #to import numpy \n",
    "print(np.argmax(predictions[675])) #to get the predicted value of index 0 i.e neural zero"
   ]
  },
  {
   "cell_type": "code",
   "execution_count": 15,
   "id": "e5d8f2db",
   "metadata": {},
   "outputs": [
    {
     "data": {
      "image/png": "[encoded data removed]",
      "text/plain": [
       "<Figure size 432x288 with 1 Axes>"
      ]
     },
     "metadata": {
      "needs_background": "light"
     },
     "output_type": "display_data"
    }
   ],
   "source": [
    "plt.imshow(x_test[675])\n",
    "plt.show()"
   ]
  },
  {
   "cell_type": "code",
   "execution_count": null,
   "id": "18455706",
   "metadata": {},
   "outputs": [],
   "source": []
  }
 ],
 "metadata": {
  "kernelspec": {
   "display_name": "Python 3",
   "language": "python",
   "name": "python3"
  },
  "language_info": {
   "codemirror_mode": {
    "name": "ipython",
    "version": 3
   },
   "file_extension": ".py",
   "mimetype": "text/x-python",
   "name": "python",
   "nbconvert_exporter": "python",
   "pygments_lexer": "ipython3",
   "version": "3.6.13"
  }
 },
 "nbformat": 4,
 "nbformat_minor": 5
}
